{
  "nbformat": 4,
  "nbformat_minor": 0,
  "metadata": {
    "colab": {
      "provenance": [],
      "gpuType": "T4"
    },
    "kernelspec": {
      "name": "python3",
      "display_name": "Python 3"
    },
    "language_info": {
      "name": "python"
    },
    "accelerator": "GPU"
  },
  "cells": [
    {
      "cell_type": "code",
      "execution_count": 2,
      "metadata": {
        "id": "P_mFL_xWMCYz"
      },
      "outputs": [],
      "source": [
        "import tensorflow as tf\n",
        "import numpy as np\n",
        "import os\n",
        "import time"
      ]
    },
    {
      "cell_type": "code",
      "source": [
        "path_to_file = tf.keras.utils.get_file('shakespeare.txt', 'https://storage.googleapis.com/download.tensorflow.org/data/shakespeare.txt')"
      ],
      "metadata": {
        "colab": {
          "base_uri": "https://localhost:8080/",
          "height": 0
        },
        "id": "Qcwpl5nOMJc8",
        "outputId": "28dc8de6-1fc9-4e0a-c6df-4d6c8399d8f4"
      },
      "execution_count": 3,
      "outputs": [
        {
          "output_type": "stream",
          "name": "stdout",
          "text": [
            "Downloading data from https://storage.googleapis.com/download.tensorflow.org/data/shakespeare.txt\n",
            "1115394/1115394 [==============================] - 0s 0us/step\n"
          ]
        }
      ]
    },
    {
      "cell_type": "code",
      "source": [
        "# Read, then decode for py2 compat.\n",
        "text = open(path_to_file, 'rb').read().decode(encoding='utf-8')\n",
        "# length of text is the number of characters in it\n",
        "print(f'Length of text: {len(text)} characters')"
      ],
      "metadata": {
        "colab": {
          "base_uri": "https://localhost:8080/",
          "height": 0
        },
        "id": "F9Y8mkTuMRo3",
        "outputId": "ab26730e-bddc-403b-b51a-5d091966c1a2"
      },
      "execution_count": 4,
      "outputs": [
        {
          "output_type": "stream",
          "name": "stdout",
          "text": [
            "Length of text: 1115394 characters\n"
          ]
        }
      ]
    },
    {
      "cell_type": "code",
      "source": [
        "# Take a look at the first 250 characters in text\n",
        "print(text[:250])"
      ],
      "metadata": {
        "colab": {
          "base_uri": "https://localhost:8080/",
          "height": 0
        },
        "id": "t4dTGogJMXVi",
        "outputId": "3726e27c-88a7-4e12-ce6d-2cfb0d353b5b"
      },
      "execution_count": 5,
      "outputs": [
        {
          "output_type": "stream",
          "name": "stdout",
          "text": [
            "First Citizen:\n",
            "Before we proceed any further, hear me speak.\n",
            "\n",
            "All:\n",
            "Speak, speak.\n",
            "\n",
            "First Citizen:\n",
            "You are all resolved rather to die than to famish?\n",
            "\n",
            "All:\n",
            "Resolved. resolved.\n",
            "\n",
            "First Citizen:\n",
            "First, you know Caius Marcius is chief enemy to the people.\n",
            "\n"
          ]
        }
      ]
    },
    {
      "cell_type": "code",
      "source": [
        "# The unique characters in the file\n",
        "vocab = sorted(set(text))\n",
        "print(f'{len(vocab)} unique characters')"
      ],
      "metadata": {
        "colab": {
          "base_uri": "https://localhost:8080/",
          "height": 0
        },
        "id": "yQez9RR9MYvn",
        "outputId": "a034eab3-5572-4a0a-a58a-ce65ce7ecb77"
      },
      "execution_count": 6,
      "outputs": [
        {
          "output_type": "stream",
          "name": "stdout",
          "text": [
            "65 unique characters\n"
          ]
        }
      ]
    },
    {
      "cell_type": "code",
      "source": [
        "# map strings to integers based on a provided vocabulary\n",
        "ids_from_chars = tf.keras.layers.StringLookup(vocabulary=list(vocab), mask_token=None)"
      ],
      "metadata": {
        "id": "0l6NhCaCMhfb"
      },
      "execution_count": 8,
      "outputs": []
    },
    {
      "cell_type": "code",
      "source": [
        "# convert the created ids back to characters\n",
        "chars_from_ids = tf.keras.layers.StringLookup(vocabulary=ids_from_chars.get_vocabulary(), invert=True, mask_token=None)"
      ],
      "metadata": {
        "colab": {
          "base_uri": "https://localhost:8080/",
          "height": 0
        },
        "id": "f9OQEjNnM6Pm",
        "outputId": "8c60b071-47b3-4d03-a85b-7a8fbc401813"
      },
      "execution_count": 11,
      "outputs": [
        {
          "output_type": "execute_result",
          "data": {
            "text/plain": [
              "<tf.RaggedTensor [[b'a', b'b', b'c', b'd', b'e', b'f', b'g'], [b'x', b'y', b'z']]>"
            ]
          },
          "metadata": {},
          "execution_count": 11
        }
      ]
    },
    {
      "cell_type": "code",
      "source": [
        "# converts the characters into text\n",
        "def text_from_ids(ids):\n",
        "  return tf.strings.reduce_join(chars_from_ids(ids), axis=-1)"
      ],
      "metadata": {
        "id": "dSrgHqYDM_-g"
      },
      "execution_count": 12,
      "outputs": []
    },
    {
      "cell_type": "code",
      "source": [
        "all_ids = ids_from_chars(tf.strings.unicode_split(text, 'UTF-8'))\n",
        "all_ids"
      ],
      "metadata": {
        "colab": {
          "base_uri": "https://localhost:8080/",
          "height": 0
        },
        "id": "EB3AW48TNGLD",
        "outputId": "4211835d-2247-47d7-f370-564b5f1e5b86"
      },
      "execution_count": 13,
      "outputs": [
        {
          "output_type": "execute_result",
          "data": {
            "text/plain": [
              "<tf.Tensor: shape=(1115394,), dtype=int64, numpy=array([19, 48, 57, ..., 46,  9,  1])>"
            ]
          },
          "metadata": {},
          "execution_count": 13
        }
      ]
    },
    {
      "cell_type": "code",
      "source": [
        "ids_dataset = tf.data.Dataset.from_tensor_slices(all_ids)"
      ],
      "metadata": {
        "id": "Lk9HEWu1NJaO"
      },
      "execution_count": 14,
      "outputs": []
    },
    {
      "cell_type": "code",
      "source": [
        "for ids in ids_dataset.take(10):\n",
        "    print(chars_from_ids(ids).numpy().decode('utf-8'))"
      ],
      "metadata": {
        "colab": {
          "base_uri": "https://localhost:8080/",
          "height": 0
        },
        "id": "AdRnufjGNKMR",
        "outputId": "17b884e6-46d5-49fb-a42a-f66174313bd8"
      },
      "execution_count": 15,
      "outputs": [
        {
          "output_type": "stream",
          "name": "stdout",
          "text": [
            "F\n",
            "i\n",
            "r\n",
            "s\n",
            "t\n",
            " \n",
            "C\n",
            "i\n",
            "t\n",
            "i\n"
          ]
        }
      ]
    },
    {
      "cell_type": "code",
      "source": [
        "seq_length = 100"
      ],
      "metadata": {
        "id": "_lNUls7GNMca"
      },
      "execution_count": 16,
      "outputs": []
    },
    {
      "cell_type": "code",
      "source": [
        "sequences = ids_dataset.batch(seq_length+1, drop_remainder=True)\n",
        "\n",
        "for seq in sequences.take(1):\n",
        "  print(chars_from_ids(seq))"
      ],
      "metadata": {
        "colab": {
          "base_uri": "https://localhost:8080/",
          "height": 0
        },
        "id": "eWD4r-kTNOJw",
        "outputId": "82d71ebc-53ea-47da-be43-8e50facedbd7"
      },
      "execution_count": 17,
      "outputs": [
        {
          "output_type": "stream",
          "name": "stdout",
          "text": [
            "tf.Tensor(\n",
            "[b'F' b'i' b'r' b's' b't' b' ' b'C' b'i' b't' b'i' b'z' b'e' b'n' b':'\n",
            " b'\\n' b'B' b'e' b'f' b'o' b'r' b'e' b' ' b'w' b'e' b' ' b'p' b'r' b'o'\n",
            " b'c' b'e' b'e' b'd' b' ' b'a' b'n' b'y' b' ' b'f' b'u' b'r' b't' b'h'\n",
            " b'e' b'r' b',' b' ' b'h' b'e' b'a' b'r' b' ' b'm' b'e' b' ' b's' b'p'\n",
            " b'e' b'a' b'k' b'.' b'\\n' b'\\n' b'A' b'l' b'l' b':' b'\\n' b'S' b'p' b'e'\n",
            " b'a' b'k' b',' b' ' b's' b'p' b'e' b'a' b'k' b'.' b'\\n' b'\\n' b'F' b'i'\n",
            " b'r' b's' b't' b' ' b'C' b'i' b't' b'i' b'z' b'e' b'n' b':' b'\\n' b'Y'\n",
            " b'o' b'u' b' '], shape=(101,), dtype=string)\n"
          ]
        }
      ]
    },
    {
      "cell_type": "code",
      "source": [
        "for seq in sequences.take(5):\n",
        "  print(text_from_ids(seq).numpy())"
      ],
      "metadata": {
        "colab": {
          "base_uri": "https://localhost:8080/",
          "height": 0
        },
        "id": "yfTYbrz6NRQ6",
        "outputId": "7fd4bc90-72c7-443e-cf52-c678cb562749"
      },
      "execution_count": 18,
      "outputs": [
        {
          "output_type": "stream",
          "name": "stdout",
          "text": [
            "b'First Citizen:\\nBefore we proceed any further, hear me speak.\\n\\nAll:\\nSpeak, speak.\\n\\nFirst Citizen:\\nYou '\n",
            "b'are all resolved rather to die than to famish?\\n\\nAll:\\nResolved. resolved.\\n\\nFirst Citizen:\\nFirst, you k'\n",
            "b\"now Caius Marcius is chief enemy to the people.\\n\\nAll:\\nWe know't, we know't.\\n\\nFirst Citizen:\\nLet us ki\"\n",
            "b\"ll him, and we'll have corn at our own price.\\nIs't a verdict?\\n\\nAll:\\nNo more talking on't; let it be d\"\n",
            "b'one: away, away!\\n\\nSecond Citizen:\\nOne word, good citizens.\\n\\nFirst Citizen:\\nWe are accounted poor citi'\n"
          ]
        }
      ]
    },
    {
      "cell_type": "code",
      "source": [
        "def split_input_target(sequence):\n",
        "    input_text = sequence[:-1]\n",
        "    target_text = sequence[1:]\n",
        "    return input_text, target_text"
      ],
      "metadata": {
        "id": "odJNhLjBNR0k"
      },
      "execution_count": 19,
      "outputs": []
    },
    {
      "cell_type": "code",
      "source": [
        "dataset = sequences.map(split_input_target)"
      ],
      "metadata": {
        "id": "cwP2kTISNaBq"
      },
      "execution_count": 21,
      "outputs": []
    },
    {
      "cell_type": "code",
      "source": [
        "for input_example, target_example in dataset.take(1):\n",
        "    print(\"Input :\", text_from_ids(input_example).numpy())\n",
        "    print(\"Target:\", text_from_ids(target_example).numpy())"
      ],
      "metadata": {
        "colab": {
          "base_uri": "https://localhost:8080/",
          "height": 0
        },
        "id": "y8yG-H-NNboP",
        "outputId": "a70005cf-2aee-48c4-fec4-29a2acc30cba"
      },
      "execution_count": 22,
      "outputs": [
        {
          "output_type": "stream",
          "name": "stdout",
          "text": [
            "Input : b'First Citizen:\\nBefore we proceed any further, hear me speak.\\n\\nAll:\\nSpeak, speak.\\n\\nFirst Citizen:\\nYou'\n",
            "Target: b'irst Citizen:\\nBefore we proceed any further, hear me speak.\\n\\nAll:\\nSpeak, speak.\\n\\nFirst Citizen:\\nYou '\n"
          ]
        }
      ]
    },
    {
      "cell_type": "code",
      "source": [
        "BATCH_SIZE = 64\n",
        "BUFFER_SIZE = 10000\n",
        "\n",
        "dataset = (\n",
        "    dataset\n",
        "    .shuffle(BUFFER_SIZE)\n",
        "    .batch(BATCH_SIZE, drop_remainder=True)\n",
        "    .prefetch(tf.data.experimental.AUTOTUNE))\n",
        "\n",
        "dataset"
      ],
      "metadata": {
        "colab": {
          "base_uri": "https://localhost:8080/",
          "height": 0
        },
        "id": "gGSVqwotNczU",
        "outputId": "9592a72e-be4b-4657-8b5b-9d1c70964aa9"
      },
      "execution_count": 23,
      "outputs": [
        {
          "output_type": "execute_result",
          "data": {
            "text/plain": [
              "<_PrefetchDataset element_spec=(TensorSpec(shape=(64, 100), dtype=tf.int64, name=None), TensorSpec(shape=(64, 100), dtype=tf.int64, name=None))>"
            ]
          },
          "metadata": {},
          "execution_count": 23
        }
      ]
    },
    {
      "cell_type": "code",
      "source": [
        "# Length of the vocabulary in StringLookup Layer\n",
        "vocab_size = len(ids_from_chars.get_vocabulary())\n",
        "\n",
        "# The embedding dimension\n",
        "# each character will be represented as a vector of length 256\n",
        "embedding_dim = 256\n",
        "\n",
        "# Number of RNN units\n",
        "rnn_units = 1024"
      ],
      "metadata": {
        "id": "KnyN5v3lNfNf"
      },
      "execution_count": 24,
      "outputs": []
    },
    {
      "cell_type": "code",
      "source": [
        "class MyModel(tf.keras.Model):\n",
        "  def __init__(self, vocab_size, embedding_dim, rnn_units):\n",
        "    super().__init__(self)\n",
        "    # converts integer IDs into dense vectors of fixed size\n",
        "    self.embedding = tf.keras.layers.Embedding(vocab_size, embedding_dim)\n",
        "    # recurrent layer that captures sequential patterns\n",
        "    self.gru = tf.keras.layers.GRU(rnn_units,\n",
        "                                   return_sequences=True,\n",
        "                                   return_state=True)\n",
        "    # outputs the logits for each word in the vocabulary\n",
        "    self.dense = tf.keras.layers.Dense(vocab_size)\n",
        "\n",
        "  # Defining the forward pass of the model\n",
        "  def call(self, inputs, states=None, return_state=False, training=False):\n",
        "    x = inputs\n",
        "    x = self.embedding(x, training=training)\n",
        "    if states is None:\n",
        "      states = self.gru.get_initial_state(x)\n",
        "    x, states = self.gru(x, initial_state=states, training=training)\n",
        "    x = self.dense(x, training=training)\n",
        "\n",
        "    if return_state:\n",
        "      return x, states\n",
        "    else:\n",
        "      return x"
      ],
      "metadata": {
        "id": "RpmByJqmNhRL"
      },
      "execution_count": 25,
      "outputs": []
    },
    {
      "cell_type": "code",
      "source": [
        "model = MyModel(\n",
        "    vocab_size=vocab_size,\n",
        "    embedding_dim=embedding_dim,\n",
        "    rnn_units=rnn_units)"
      ],
      "metadata": {
        "id": "kuHgfow5NjR9"
      },
      "execution_count": 26,
      "outputs": []
    },
    {
      "cell_type": "code",
      "source": [
        "for input_example_batch, target_example_batch in dataset.take(1):\n",
        "    example_batch_predictions = model(input_example_batch)\n",
        "    print(example_batch_predictions.shape, \"# (batch_size, sequence_length, vocab_size)\")"
      ],
      "metadata": {
        "colab": {
          "base_uri": "https://localhost:8080/",
          "height": 0
        },
        "id": "N0BC_RMBNlSo",
        "outputId": "0f7d9d64-7e65-493a-c5a3-117a7f29c2a8"
      },
      "execution_count": 27,
      "outputs": [
        {
          "output_type": "stream",
          "name": "stdout",
          "text": [
            "(64, 100, 66) # (batch_size, sequence_length, vocab_size)\n"
          ]
        }
      ]
    },
    {
      "cell_type": "code",
      "source": [
        "model.summary()"
      ],
      "metadata": {
        "colab": {
          "base_uri": "https://localhost:8080/",
          "height": 0
        },
        "id": "aIWtM8K3NnnL",
        "outputId": "65495958-3740-4967-e810-6a27188eaf47"
      },
      "execution_count": 28,
      "outputs": [
        {
          "output_type": "stream",
          "name": "stdout",
          "text": [
            "Model: \"my_model\"\n",
            "_________________________________________________________________\n",
            " Layer (type)                Output Shape              Param #   \n",
            "=================================================================\n",
            " embedding (Embedding)       multiple                  16896     \n",
            "                                                                 \n",
            " gru (GRU)                   multiple                  3938304   \n",
            "                                                                 \n",
            " dense (Dense)               multiple                  67650     \n",
            "                                                                 \n",
            "=================================================================\n",
            "Total params: 4022850 (15.35 MB)\n",
            "Trainable params: 4022850 (15.35 MB)\n",
            "Non-trainable params: 0 (0.00 Byte)\n",
            "_________________________________________________________________\n"
          ]
        }
      ]
    },
    {
      "cell_type": "code",
      "source": [
        "# array of randomly sampled word indices based on the predicted logits\n",
        "sampled_indices = tf.random.categorical(example_batch_predictions[0], num_samples=1)\n",
        "sampled_indices = tf.squeeze(sampled_indices, axis=-1).numpy()"
      ],
      "metadata": {
        "id": "WspU-9_1NrU1"
      },
      "execution_count": 29,
      "outputs": []
    },
    {
      "cell_type": "code",
      "source": [
        "print(\"Input:\\n\", text_from_ids(input_example_batch[0]).numpy())\n",
        "print()\n",
        "print(\"Next Char Predictions:\\n\", text_from_ids(sampled_indices).numpy())"
      ],
      "metadata": {
        "colab": {
          "base_uri": "https://localhost:8080/",
          "height": 0
        },
        "id": "6kYH5fbnNtXt",
        "outputId": "4d9cce24-f05e-410f-b9a8-e2978d24899f"
      },
      "execution_count": 30,
      "outputs": [
        {
          "output_type": "stream",
          "name": "stdout",
          "text": [
            "Input:\n",
            " b\"native town you enter'd like a post,\\nAnd had no welcomes home: but he returns,\\nSplitting the air wit\"\n",
            "\n",
            "Next Char Predictions:\n",
            " b\"DAT eTFtCByFZe kqTDmCZ!mHQQJHLCcnshsnpf'izlC&nEPQ3V\\njfQ.gzX,Me.YqEwsUvXHw3iv,wZoQmBYsi-q3R\\nWXQaLCKZw\"\n"
          ]
        }
      ]
    },
    {
      "cell_type": "code",
      "source": [
        "# calculates the cross-entropy loss between the predicted probabilities and the true labels.\n",
        "# from logits is true as we are directly working with raw output logits which have not been put through softmax layer\n",
        "loss = tf.losses.SparseCategoricalCrossentropy(from_logits=True)"
      ],
      "metadata": {
        "id": "4m6vhNIHNvdf"
      },
      "execution_count": 31,
      "outputs": []
    },
    {
      "cell_type": "code",
      "source": [
        "example_batch_mean_loss = loss(target_example_batch, example_batch_predictions)\n",
        "print(\"Prediction shape: \", example_batch_predictions.shape, \" # (batch_size, sequence_length, vocab_size)\")\n",
        "print(\"Mean loss:        \", example_batch_mean_loss)"
      ],
      "metadata": {
        "colab": {
          "base_uri": "https://localhost:8080/",
          "height": 0
        },
        "id": "6VQ3IU9qNwVU",
        "outputId": "9c91d8d5-d488-41d4-b8c1-15bf33077903"
      },
      "execution_count": 32,
      "outputs": [
        {
          "output_type": "stream",
          "name": "stdout",
          "text": [
            "Prediction shape:  (64, 100, 66)  # (batch_size, sequence_length, vocab_size)\n",
            "Mean loss:         tf.Tensor(4.189846, shape=(), dtype=float32)\n"
          ]
        }
      ]
    },
    {
      "cell_type": "code",
      "source": [
        "tf.exp(example_batch_mean_loss).numpy()"
      ],
      "metadata": {
        "colab": {
          "base_uri": "https://localhost:8080/",
          "height": 0
        },
        "id": "JWEy-s8CNyfq",
        "outputId": "bc7b46d4-c12e-4265-f2b4-568ea101e856"
      },
      "execution_count": 33,
      "outputs": [
        {
          "output_type": "execute_result",
          "data": {
            "text/plain": [
              "66.01263"
            ]
          },
          "metadata": {},
          "execution_count": 33
        }
      ]
    },
    {
      "cell_type": "code",
      "source": [
        "model.compile(optimizer='adam', loss=loss)"
      ],
      "metadata": {
        "id": "52melz-YN1Kv"
      },
      "execution_count": 34,
      "outputs": []
    },
    {
      "cell_type": "code",
      "source": [
        "# Directory where the checkpoints will be saved\n",
        "checkpoint_dir = './training_checkpoints'\n",
        "# Name of the checkpoint files\n",
        "checkpoint_prefix = os.path.join(checkpoint_dir, \"ckpt_{epoch}\")\n",
        "\n",
        "checkpoint_callback = tf.keras.callbacks.ModelCheckpoint(\n",
        "    filepath=checkpoint_prefix,\n",
        "    save_weights_only=True)"
      ],
      "metadata": {
        "id": "73tAae7sN3Yz"
      },
      "execution_count": 35,
      "outputs": []
    },
    {
      "cell_type": "code",
      "source": [
        "EPOCHS = 30"
      ],
      "metadata": {
        "id": "7Q14HpZAN4dh"
      },
      "execution_count": 49,
      "outputs": []
    },
    {
      "cell_type": "code",
      "source": [
        "history = model.fit(dataset, epochs=EPOCHS, callbacks=[checkpoint_callback])"
      ],
      "metadata": {
        "colab": {
          "base_uri": "https://localhost:8080/",
          "height": 0
        },
        "id": "OrbbfV1vN6Mn",
        "outputId": "cff6cc36-7fef-4af6-9c6d-8350526b7656"
      },
      "execution_count": 50,
      "outputs": [
        {
          "output_type": "stream",
          "name": "stdout",
          "text": [
            "Epoch 1/40\n",
            "172/172 [==============================] - 11s 54ms/step - loss: 1.1310\n",
            "Epoch 2/40\n",
            "172/172 [==============================] - 11s 55ms/step - loss: 1.0899\n",
            "Epoch 3/40\n",
            "172/172 [==============================] - 11s 55ms/step - loss: 1.0444\n",
            "Epoch 4/40\n",
            "172/172 [==============================] - 11s 56ms/step - loss: 0.9973\n",
            "Epoch 5/40\n",
            "172/172 [==============================] - 12s 57ms/step - loss: 0.9478\n",
            "Epoch 6/40\n",
            "172/172 [==============================] - 12s 58ms/step - loss: 0.8955\n",
            "Epoch 7/40\n",
            "172/172 [==============================] - 12s 59ms/step - loss: 0.8440\n",
            "Epoch 8/40\n",
            "172/172 [==============================] - 12s 59ms/step - loss: 0.7918\n",
            "Epoch 9/40\n",
            "172/172 [==============================] - 12s 57ms/step - loss: 0.7427\n",
            "Epoch 10/40\n",
            "172/172 [==============================] - 12s 57ms/step - loss: 0.6966\n",
            "Epoch 11/40\n",
            "172/172 [==============================] - 12s 58ms/step - loss: 0.6554\n",
            "Epoch 12/40\n",
            "172/172 [==============================] - 12s 59ms/step - loss: 0.6184\n",
            "Epoch 13/40\n",
            "172/172 [==============================] - 12s 60ms/step - loss: 0.5864\n",
            "Epoch 14/40\n",
            "172/172 [==============================] - 12s 58ms/step - loss: 0.5603\n",
            "Epoch 15/40\n",
            "172/172 [==============================] - 12s 58ms/step - loss: 0.5396\n",
            "Epoch 16/40\n",
            "172/172 [==============================] - 12s 57ms/step - loss: 0.5193\n",
            "Epoch 17/40\n",
            "172/172 [==============================] - 12s 56ms/step - loss: 0.5023\n",
            "Epoch 18/40\n",
            "172/172 [==============================] - 12s 57ms/step - loss: 0.4889\n",
            "Epoch 19/40\n",
            "172/172 [==============================] - 12s 58ms/step - loss: 0.4768\n",
            "Epoch 20/40\n",
            "172/172 [==============================] - 12s 57ms/step - loss: 0.4667\n",
            "Epoch 21/40\n",
            "172/172 [==============================] - 12s 59ms/step - loss: 0.4568\n",
            "Epoch 22/40\n",
            "172/172 [==============================] - 12s 59ms/step - loss: 0.4512\n",
            "Epoch 23/40\n",
            "172/172 [==============================] - 12s 57ms/step - loss: 0.4482\n",
            "Epoch 24/40\n",
            "172/172 [==============================] - 11s 57ms/step - loss: 0.4457\n",
            "Epoch 25/40\n",
            "172/172 [==============================] - 11s 56ms/step - loss: 0.4370\n",
            "Epoch 26/40\n",
            "172/172 [==============================] - 11s 56ms/step - loss: 0.4345\n",
            "Epoch 27/40\n",
            "172/172 [==============================] - 12s 56ms/step - loss: 0.4301\n",
            "Epoch 28/40\n",
            "172/172 [==============================] - 12s 57ms/step - loss: 0.4274\n",
            "Epoch 29/40\n",
            "172/172 [==============================] - 12s 58ms/step - loss: 0.4284\n",
            "Epoch 30/40\n",
            "172/172 [==============================] - 12s 59ms/step - loss: 0.4285\n",
            "Epoch 31/40\n",
            "172/172 [==============================] - 12s 59ms/step - loss: 0.4264\n",
            "Epoch 32/40\n",
            "172/172 [==============================] - 12s 57ms/step - loss: 0.4213\n",
            "Epoch 33/40\n",
            "172/172 [==============================] - 11s 56ms/step - loss: 0.4195\n",
            "Epoch 34/40\n",
            "172/172 [==============================] - 11s 55ms/step - loss: 0.4191\n",
            "Epoch 35/40\n",
            "172/172 [==============================] - 12s 56ms/step - loss: 0.4196\n",
            "Epoch 36/40\n",
            "172/172 [==============================] - 12s 58ms/step - loss: 0.4246\n",
            "Epoch 37/40\n",
            "172/172 [==============================] - 12s 59ms/step - loss: 0.4256\n",
            "Epoch 38/40\n",
            "172/172 [==============================] - 12s 58ms/step - loss: 0.4240\n",
            "Epoch 39/40\n",
            "172/172 [==============================] - 12s 56ms/step - loss: 0.4168\n",
            "Epoch 40/40\n",
            "172/172 [==============================] - 12s 57ms/step - loss: 0.4236\n"
          ]
        }
      ]
    },
    {
      "cell_type": "code",
      "source": [
        "# represents a single step of text generation using a given model\n",
        "class OneStep(tf.keras.Model):\n",
        "  def __init__(self, model, chars_from_ids, ids_from_chars, temperature=1.0):\n",
        "    super().__init__()\n",
        "    #  A parameter that controls the randomness of the generated text.\n",
        "    # Higher values (e.g., 1.0) result in more random outputs,\n",
        "    # while lower values (e.g., 0.5) make the outputs more deterministic.\n",
        "    self.temperature = temperature\n",
        "    # model we created earlier\n",
        "    self.model = model\n",
        "    # both functions defined earlier\n",
        "    self.chars_from_ids = chars_from_ids\n",
        "    self.ids_from_chars = ids_from_chars\n",
        "\n",
        "    # Create a mask to prevent \"[UNK]\" from being generated.\n",
        "    skip_ids = self.ids_from_chars(['[UNK]'])[:, None]\n",
        "    sparse_mask = tf.SparseTensor(\n",
        "        # Put a -inf at each bad index.\n",
        "        values=[-float('inf')]*len(skip_ids),\n",
        "        indices=skip_ids,\n",
        "        # Match the shape to the vocabulary\n",
        "        dense_shape=[len(ids_from_chars.get_vocabulary())])\n",
        "    self.prediction_mask = tf.sparse.to_dense(sparse_mask)\n",
        "\n",
        "  # generates the next character given an input sequence.\n",
        "  @tf.function\n",
        "  def generate_one_step(self, inputs, states=None):\n",
        "    # Convert strings to token IDs.\n",
        "    input_chars = tf.strings.unicode_split(inputs, 'UTF-8')\n",
        "    input_ids = self.ids_from_chars(input_chars).to_tensor()\n",
        "\n",
        "    # Run the model.\n",
        "    # predicted_logits.shape is [batch, char, next_char_logits]\n",
        "    predicted_logits, states = self.model(inputs=input_ids, states=states,\n",
        "                                          return_state=True)\n",
        "    # Only use the last prediction.\n",
        "    predicted_logits = predicted_logits[:, -1, :]\n",
        "    predicted_logits = predicted_logits/self.temperature\n",
        "    # Apply the prediction mask: prevent \"[UNK]\" from being generated.\n",
        "    predicted_logits = predicted_logits + self.prediction_mask\n",
        "\n",
        "    # Sample the output logits to generate token IDs.\n",
        "    predicted_ids = tf.random.categorical(predicted_logits, num_samples=1)\n",
        "    predicted_ids = tf.squeeze(predicted_ids, axis=-1)\n",
        "\n",
        "    # Convert from token ids to characters\n",
        "    predicted_chars = self.chars_from_ids(predicted_ids)\n",
        "\n",
        "    # Return the characters and model state.\n",
        "    return predicted_chars, states"
      ],
      "metadata": {
        "id": "AHFk9yqPO0mD"
      },
      "execution_count": 51,
      "outputs": []
    },
    {
      "cell_type": "code",
      "source": [
        "one_step_model = OneStep(model, chars_from_ids, ids_from_chars)"
      ],
      "metadata": {
        "id": "XIyeuGg1O2Xq"
      },
      "execution_count": 52,
      "outputs": []
    },
    {
      "cell_type": "code",
      "source": [
        "start = time.time()\n",
        "states = None\n",
        "next_char = tf.constant(['ROMEO:'])\n",
        "result = [next_char]\n",
        "\n",
        "for n in range(1000):\n",
        "  next_char, states = one_step_model.generate_one_step(next_char, states=states)\n",
        "  result.append(next_char)\n",
        "\n",
        "result = tf.strings.join(result)\n",
        "end = time.time()\n",
        "print(result[0].numpy().decode('utf-8'), '\\n\\n' + '_'*80)\n",
        "print('\\nRun time:', end - start)"
      ],
      "metadata": {
        "colab": {
          "base_uri": "https://localhost:8080/",
          "height": 0
        },
        "id": "Tr5wYtt8O21p",
        "outputId": "ff221268-2885-485c-aae4-c51f2700a950"
      },
      "execution_count": 53,
      "outputs": [
        {
          "output_type": "stream",
          "name": "stdout",
          "text": [
            "ROMEO:\n",
            "The prettiest love I can be honour in our hearts.\n",
            "What, unburith age? what statut is most of all.\n",
            "\n",
            "PETRUCHIO:\n",
            "Signior Hortensio,\n",
            "O Ratcliff, I fear, when weep your power.\n",
            "\n",
            "Post:\n",
            "An id the heads of the cause. I'll to die a smoot\n",
            "That hunger for his death-bed lived,\n",
            "Forsworn to fall their heirs, the brank'd souls\n",
            "And all sister's pursuins to be married; and\n",
            "By calming title grung encounters at me.\n",
            "More than terror; and the wold with us,\n",
            "Or see have you are all undone: upon this good disdail\n",
            "For, thou bold love, and may look on the poor sould,\n",
            "And darts his mighty seventions and grievous\n",
            "plainly so likely unmon'd, a very view treach:\n",
            "Shall then the broker inferial shadows;\n",
            "Which sorrow will shed from Claudio :\n",
            "desperated the fairest than an ague-face to a\n",
            "hog sweet son.\n",
            "\n",
            "LUCIO:\n",
            "This may part with the king.\n",
            "\n",
            "CLIFFORD:\n",
            "What, not a word? yes, you have unnatural,\n",
            "Than to demand disdraintually the stones;\n",
            "And low with lest should close it to your bosom's tribune.\n",
            "\n",
            "KING EDWARD IV:\n",
            "Make way, th \n",
            "\n",
            "________________________________________________________________________________\n",
            "\n",
            "Run time: 3.133985757827759\n"
          ]
        }
      ]
    },
    {
      "cell_type": "code",
      "source": [
        "start = time.time()\n",
        "states = None\n",
        "next_char = tf.constant(['ROMEO:', 'ROMEO:', 'ROMEO:', 'ROMEO:', 'ROMEO:'])\n",
        "result = [next_char]\n",
        "\n",
        "for n in range(1000):\n",
        "  next_char, states = one_step_model.generate_one_step(next_char, states=states)\n",
        "  result.append(next_char)\n",
        "\n",
        "result = tf.strings.join(result)\n",
        "end = time.time()\n",
        "print(result, '\\n\\n' + '_'*80)\n",
        "print('\\nRun time:', end - start)"
      ],
      "metadata": {
        "colab": {
          "base_uri": "https://localhost:8080/",
          "height": 0
        },
        "id": "88LhvG1FO5pj",
        "outputId": "5bb31d64-7446-4eef-9337-140468dc3290"
      },
      "execution_count": 54,
      "outputs": [
        {
          "output_type": "stream",
          "name": "stdout",
          "text": [
            "tf.Tensor(\n",
            "[b\"ROMEO:\\nThere is my banish'd, hence, awake, mat\\nDrath in the holy trads, fair quarrels; and their beauteous lies\\nThe might child that have beseemed my feed,\\nMay to dinne hence perfumed for the moon.\\n\\nPETRUCHIO:\\nSo I be gone?\\nWhat is the book on his king.\\n\\nWARWICK:\\nI jush'd his law; as they will look upon,\\nBy help to our mistress for their dusty there.\\nGo, some sand a bark, our case, and they smart\\nTo hear them toll. This man, Aufidius,\\nWell-minusters; though it do some prive\\nThan this unfold some of it.\\n\\nFirst Of the devil hath more grief to pieces.\\n\\nLUCENTIO:\\nAnd yet I would he had no tongue,\\nwhich in the case of the remedy; and all o'er down\\nEncounalement, who's near and him;\\nAnd fearless father to do it overal periul.\\n\\nhigh, for 'tis a sore man I speak of nature,\\nSo long than very weak cried, as Camillo.\\n\\nCAMILLO:\\nBy miserainess! farewell.\\nBut of this noble uncles, God pave boldly coll\\nMakes me with the easy grove to my wife.\\n\\nLUCENTIO:\\nMistake the morning?\\n\\nProvost:\\nThis afternoon, sir, w\"\n",
            " b\"ROMEO:\\nLove's tame, sir, I am no full; and hope, prithee, be not\\nsametion. Here is God and all this will appear,\\nAnd yet hot slewards with Edward, and\\nmyself should for him than I might plain withal: and look you\\nThat I may pass this world affection!\\nShore, that I will short more pity. Come, Camillo;\\nI will be blister'd: pardons.\\n\\nMONTAGUS:\\nWe were a bride,\\nWhich once, I wis your gain to strike. I know thou wron'st, away.\\n\\nSecond Servant:\\nWhen good womb her face so, sir? I tell thee,\\nLet him be but kilf heret. So hated to prime browning, yet.\\n\\nSeevant:\\nCome, so it shall be so. errors, you,\\nForgive your houses!' 'tis born to-night.\\nHow long is't humour is too much a souble realm;\\nLike abed, and put thy face of heaven;\\nTo this unpleasing it with sorrow; Richard seated\\nFor which you account me a bawd.\\n\\nNurse:\\nO Tybalt, my lord;--\\n\\nANGELO:\\nI shame o' the street?\\n\\nNurse:\\nMadam!\\nA mighty matchrow and sung no grow doth true.\\n\\nGLOUCESTER:\\nGo, tragious fortune, by the honour of my\\nservices with a pal\"\n",
            " b\"ROMEO:\\nThe resolute perish! my wife comes for the provost.\\n\\nKING RICHARD II:\\nWhither I will go, come hither, cover'd with\\nallow; it is not gauntly's good circumstances,\\n'pore's not thy conscience tale so ill.\\nI thank your worship for your guides, come.\\nWhy 'scaped her? Come; what offences to\\npluck but one his kneer. Take my deceit it for\\nthe soul with ragial on't; both a happy thief,\\nAnd all as enemies; one Paris' law;\\nAnd so Any more than all the rest, for the generous world eit,\\nAnd dares her bree so fast, prepost too long,\\nSo many mine arms.\\n\\nPAULINA:\\nWhat is't? Come?\\n\\nMENENIUS:\\nI used, and neverge, your hand:\\nAnd yet not quaint humalian and his followers\\nAnd pity town.\\n\\nDUCHESS OF YORK:\\nWithout reverence again to cut off are soldiers;\\nIt will some inking me here,\\nIf not, that I may live: I have promised to be god\\nThe common people from to sweet son?\\nWill take the ruil of the cup of Henceforit the\\nshepherd: they say the lurs, begg'd you as a trade.\\nMy Lord of Westmorely may as well\\nForgiv\"\n",
            " b\"ROMEO:\\nThere is Lucentio, they kill them both, and all:\\nThat, if you love me to his neighbour's wife;\\nThough thou speak'st truth with a gentler shop and publicly.\\n\\nGREEN:\\nAh, would the doublenevary orderly Perdita!\\nWhat hast her place in heaven to tell me,\\nShall the common ear to hear them world. I have no other\\nBy Capiton with your resolute. What then?\\nHelp, sound! Who's the obearth of my tent?\\n\\nCAMILLO:\\nI dare not know your book and clip debt.\\n\\nCORIOLANUS:\\nYour hopest wife\\nMay shame thee for thy forcement after I say queen?\\n\\nQUEEN ELIZA:\\nI saw my lord, here's that.\\n\\nCOMINIUS:\\nAs we are sofficed of;\\nshe would unto the son and heir, give consent\\nTo marvello, they lat at home, sir; a gentleman,\\nNot clothes; they have a letter here, it masters,\\nProucester' the rivortable further cannot mean.\\n\\nLADY GREY:\\nWhy, then All-Souls' doar\\nMy name is Tybalt dignity, but this shepherd:\\nWhy art thou with our pursents;' quoth he; on their dooms!\\nWould my unnatural spoil do action\\nTo Baptista die with all th\"\n",
            " b\"ROMEO:\\nWhy, this it is!\\n\\nGLOUCESTER:\\nBrother, this is in this pale report to steal lour'd\\nWhere I am courtesy.' every 'I'll too more incensed,\\nWhat thou wert'st lost?\\n\\nApanion:\\nCommend me to villain! a poor soul dotress Subously\\nWho ourselfed by nature bred their means and lips;\\nAnd we are barren and bereft of friends;\\nYet, if you love me.\\n\\nMayor:\\nLove trademet's curse.\\n\\nBENVOLIO:\\nHe is goodly things; a thrift shows at your comblens\\nTo death habit out a gatlen priest.\\nI wish, too our brother to the house;\\nAnd say you are not, since we may long south:\\nWe have perform'd to Pide and dates, they follow.\\n\\nPETRUCHIO:\\nI say it is: and yet, methinks, Sir Right,\\nWhose warls thou well'd up to greeting touth\\nones. 'pait for you: yet all this while once guittle,\\nHow likes smmit them and me and reignity. Thou art deceived\\nLike to a husband with the hag, of action.\\nMore than I have bought me, cheerly and Lord Stall'\\nRomeo, there, no; therefore each beloved,\\nAnd do me leave to force untranches give lung;\\nA\"], shape=(5,), dtype=string) \n",
            "\n",
            "________________________________________________________________________________\n",
            "\n",
            "Run time: 3.1372997760772705\n"
          ]
        }
      ]
    },
    {
      "cell_type": "code",
      "source": [
        "tf.saved_model.save(one_step_model, 'one_step')\n",
        "one_step_reloaded = tf.saved_model.load('one_step')"
      ],
      "metadata": {
        "colab": {
          "base_uri": "https://localhost:8080/",
          "height": 0
        },
        "id": "jfj09wsJO6Tq",
        "outputId": "70aea7a6-6603-4633-c666-e531b49548f6"
      },
      "execution_count": 42,
      "outputs": [
        {
          "output_type": "stream",
          "name": "stderr",
          "text": [
            "WARNING:tensorflow:Skipping full serialization of Keras layer <__main__.OneStep object at 0x78569a9402b0>, because it is not built.\n",
            "WARNING:tensorflow:Model's `__init__()` arguments contain non-serializable objects. Please implement a `get_config()` method in the subclassed Model for proper saving and loading. Defaulting to empty config.\n",
            "WARNING:tensorflow:Model's `__init__()` arguments contain non-serializable objects. Please implement a `get_config()` method in the subclassed Model for proper saving and loading. Defaulting to empty config.\n"
          ]
        }
      ]
    },
    {
      "cell_type": "code",
      "source": [
        "states = None\n",
        "next_char = tf.constant(['ROMEO:'])\n",
        "result = [next_char]\n",
        "\n",
        "for n in range(100):\n",
        "  next_char, states = one_step_reloaded.generate_one_step(next_char, states=states)\n",
        "  result.append(next_char)\n",
        "\n",
        "print(tf.strings.join(result)[0].numpy().decode(\"utf-8\"))"
      ],
      "metadata": {
        "colab": {
          "base_uri": "https://localhost:8080/",
          "height": 0
        },
        "id": "Z6Urtk-vO88P",
        "outputId": "7fc89280-aed4-4cc7-a56f-69edd98c906d"
      },
      "execution_count": 43,
      "outputs": [
        {
          "output_type": "stream",
          "name": "stdout",
          "text": [
            "ROMEO:\n",
            "Petruchio go wind thy wife.\n",
            "\n",
            "ESCALUS:\n",
            "What is she nam?\n",
            "\n",
            "BENVOLIO:\n",
            "Am sturb'd, I would say as he str\n"
          ]
        }
      ]
    },
    {
      "cell_type": "code",
      "source": [
        "class CustomTraining(MyModel):\n",
        "  @tf.function\n",
        "  def train_step(self, inputs):\n",
        "      inputs, labels = inputs\n",
        "      with tf.GradientTape() as tape:\n",
        "          predictions = self(inputs, training=True)\n",
        "          loss = self.loss(labels, predictions)\n",
        "      grads = tape.gradient(loss, model.trainable_variables)\n",
        "      self.optimizer.apply_gradients(zip(grads, model.trainable_variables))\n",
        "\n",
        "      return {'loss': loss}"
      ],
      "metadata": {
        "id": "cVBnkSmVO_eT"
      },
      "execution_count": 44,
      "outputs": []
    },
    {
      "cell_type": "code",
      "source": [
        "model = CustomTraining(\n",
        "    vocab_size=len(ids_from_chars.get_vocabulary()),\n",
        "    embedding_dim=embedding_dim,\n",
        "    rnn_units=rnn_units)"
      ],
      "metadata": {
        "id": "D8-JW-M_PAHL"
      },
      "execution_count": 45,
      "outputs": []
    },
    {
      "cell_type": "code",
      "source": [
        "model.compile(optimizer = tf.keras.optimizers.Adam(),\n",
        "              loss=tf.keras.losses.SparseCategoricalCrossentropy(from_logits=True))"
      ],
      "metadata": {
        "id": "NQnPl5m8PDAB"
      },
      "execution_count": 46,
      "outputs": []
    },
    {
      "cell_type": "code",
      "source": [
        "EPOCHS = 10\n",
        "\n",
        "mean = tf.metrics.Mean()\n",
        "\n",
        "for epoch in range(EPOCHS):\n",
        "    start = time.time()\n",
        "\n",
        "    mean.reset_states()\n",
        "    for (batch_n, (inp, target)) in enumerate(dataset):\n",
        "        logs = model.train_step([inp, target])\n",
        "        mean.update_state(logs['loss'])\n",
        "\n",
        "        if batch_n % 50 == 0:\n",
        "            template = f\"Epoch {epoch+1} Batch {batch_n} Loss {logs['loss']:.4f}\"\n",
        "            print(template)\n",
        "\n",
        "    # saving (checkpoint) the model every 5 epochs\n",
        "    if (epoch + 1) % 5 == 0:\n",
        "        model.save_weights(checkpoint_prefix.format(epoch=epoch))\n",
        "\n",
        "    print()\n",
        "    print(f'Epoch {epoch+1} Loss: {mean.result().numpy():.4f}')\n",
        "    print(f'Time taken for 1 epoch {time.time() - start:.2f} sec')\n",
        "    print(\"_\"*80)\n",
        "\n",
        "model.save_weights(checkpoint_prefix.format(epoch=epoch))"
      ],
      "metadata": {
        "colab": {
          "base_uri": "https://localhost:8080/",
          "height": 0
        },
        "id": "HD5LnwdaPILG",
        "outputId": "18acd542-9244-4068-e4ef-b02036b1458b"
      },
      "execution_count": 48,
      "outputs": [
        {
          "output_type": "stream",
          "name": "stdout",
          "text": [
            "Epoch 1 Batch 0 Loss 2.1556\n",
            "Epoch 1 Batch 50 Loss 2.0626\n",
            "Epoch 1 Batch 100 Loss 1.9674\n",
            "Epoch 1 Batch 150 Loss 1.8770\n",
            "\n",
            "Epoch 1 Loss: 1.9862\n",
            "Time taken for 1 epoch 12.97 sec\n",
            "________________________________________________________________________________\n",
            "Epoch 2 Batch 0 Loss 1.7924\n",
            "Epoch 2 Batch 50 Loss 1.7125\n",
            "Epoch 2 Batch 100 Loss 1.7081\n",
            "Epoch 2 Batch 150 Loss 1.6625\n",
            "\n",
            "Epoch 2 Loss: 1.7115\n",
            "Time taken for 1 epoch 11.89 sec\n",
            "________________________________________________________________________________\n",
            "Epoch 3 Batch 0 Loss 1.5895\n",
            "Epoch 3 Batch 50 Loss 1.5913\n",
            "Epoch 3 Batch 100 Loss 1.5480\n",
            "Epoch 3 Batch 150 Loss 1.5403\n",
            "\n",
            "Epoch 3 Loss: 1.5504\n",
            "Time taken for 1 epoch 20.47 sec\n",
            "________________________________________________________________________________\n",
            "Epoch 4 Batch 0 Loss 1.4889\n",
            "Epoch 4 Batch 50 Loss 1.4299\n",
            "Epoch 4 Batch 100 Loss 1.4482\n",
            "Epoch 4 Batch 150 Loss 1.4233\n",
            "\n",
            "Epoch 4 Loss: 1.4532\n",
            "Time taken for 1 epoch 11.33 sec\n",
            "________________________________________________________________________________\n",
            "Epoch 5 Batch 0 Loss 1.4042\n",
            "Epoch 5 Batch 50 Loss 1.4271\n",
            "Epoch 5 Batch 100 Loss 1.3520\n",
            "Epoch 5 Batch 150 Loss 1.3514\n",
            "\n",
            "Epoch 5 Loss: 1.3857\n",
            "Time taken for 1 epoch 11.67 sec\n",
            "________________________________________________________________________________\n",
            "Epoch 6 Batch 0 Loss 1.3120\n",
            "Epoch 6 Batch 50 Loss 1.3732\n",
            "Epoch 6 Batch 100 Loss 1.3704\n",
            "Epoch 6 Batch 150 Loss 1.3438\n",
            "\n",
            "Epoch 6 Loss: 1.3339\n",
            "Time taken for 1 epoch 11.63 sec\n",
            "________________________________________________________________________________\n",
            "Epoch 7 Batch 0 Loss 1.2528\n",
            "Epoch 7 Batch 50 Loss 1.2886\n",
            "Epoch 7 Batch 100 Loss 1.2979\n",
            "Epoch 7 Batch 150 Loss 1.2726\n",
            "\n",
            "Epoch 7 Loss: 1.2890\n",
            "Time taken for 1 epoch 11.32 sec\n",
            "________________________________________________________________________________\n",
            "Epoch 8 Batch 0 Loss 1.2258\n",
            "Epoch 8 Batch 50 Loss 1.2307\n",
            "Epoch 8 Batch 100 Loss 1.2346\n",
            "Epoch 8 Batch 150 Loss 1.2557\n",
            "\n",
            "Epoch 8 Loss: 1.2494\n",
            "Time taken for 1 epoch 11.22 sec\n",
            "________________________________________________________________________________\n",
            "Epoch 9 Batch 0 Loss 1.1947\n",
            "Epoch 9 Batch 50 Loss 1.2157\n",
            "Epoch 9 Batch 100 Loss 1.1785\n",
            "Epoch 9 Batch 150 Loss 1.2195\n",
            "\n",
            "Epoch 9 Loss: 1.2107\n",
            "Time taken for 1 epoch 11.21 sec\n",
            "________________________________________________________________________________\n",
            "Epoch 10 Batch 0 Loss 1.1971\n",
            "Epoch 10 Batch 50 Loss 1.1670\n",
            "Epoch 10 Batch 100 Loss 1.1992\n",
            "Epoch 10 Batch 150 Loss 1.1986\n",
            "\n",
            "Epoch 10 Loss: 1.1716\n",
            "Time taken for 1 epoch 20.57 sec\n",
            "________________________________________________________________________________\n"
          ]
        }
      ]
    }
  ]
}